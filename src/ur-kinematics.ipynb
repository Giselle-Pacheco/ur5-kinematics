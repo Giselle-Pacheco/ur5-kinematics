{
 "cells": [
  {
   "cell_type": "code",
   "execution_count": 1,
   "metadata": {},
   "outputs": [
    {
     "name": "stdout",
     "output_type": "stream",
     "text": [
      "warning: import zmqRemoteApi is deprecated. Please use import coppeliasim_zmqremoteapi_client instead.\n"
     ]
    }
   ],
   "source": [
    "#Import libraries\n",
    "import time\n",
    "from zmqRemoteApi import RemoteAPIClient\n",
    "import numpy as np\n",
    "import pandas as pd"
   ]
  },
  {
   "cell_type": "code",
   "execution_count": 2,
   "metadata": {},
   "outputs": [
    {
     "name": "stdout",
     "output_type": "stream",
     "text": [
      "Simulation time: 0.00 [s]\n",
      "Simulation time: 0.05 [s]\n",
      "Simulation time: 0.10 [s]\n",
      "Simulation time: 0.15 [s]\n",
      "Simulation time: 0.20 [s]\n",
      "Simulation time: 0.30 [s]\n",
      "Simulation time: 0.35 [s]\n"
     ]
    }
   ],
   "source": [
    "\n",
    "client = RemoteAPIClient()\n",
    "sim = client.getObject('sim')\n",
    "\n",
    "client.setStepping(True)\n",
    "\n",
    "sim.startSimulation()\n",
    "while (t := sim.getSimulationTime()) < 3:\n",
    "    s = f'Simulation time: {t:.2f} [s]'\n",
    "    print(s)\n",
    "    client.step()\n",
    "sim.stopSimulation()\n",
    "\n",
    "# Get object handle\n",
    "\n",
    "# Obtenemos los manejadores para las articulaciones y el actuador final\n",
    "j1 = sim.getObject('/UR5/link1_visible/joint1')\n",
    "# j2 = sim.getObject('UR5/joint2')\n",
    "# j3 = sim.getObject('UR5/joint3')\n",
    "\n",
    "sim.stopSimulation()"
   ]
  }
 ],
 "metadata": {
  "kernelspec": {
   "display_name": "Python 3",
   "language": "python",
   "name": "python3"
  },
  "language_info": {
   "codemirror_mode": {
    "name": "ipython",
    "version": 3
   },
   "file_extension": ".py",
   "mimetype": "text/x-python",
   "name": "python",
   "nbconvert_exporter": "python",
   "pygments_lexer": "ipython3",
   "version": "3.10.6"
  },
  "orig_nbformat": 4
 },
 "nbformat": 4,
 "nbformat_minor": 2
}
