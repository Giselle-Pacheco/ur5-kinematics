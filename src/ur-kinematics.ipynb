{
 "cells": [
  {
   "cell_type": "code",
   "execution_count": 43,
   "metadata": {},
   "outputs": [],
   "source": [
    "#Import libraries\n",
    "import time\n",
    "from zmqRemoteApi import RemoteAPIClient\n",
    "import numpy as np\n",
    "import pandas as pd"
   ]
  },
  {
   "cell_type": "code",
   "execution_count": 44,
   "metadata": {},
   "outputs": [],
   "source": [
    "\n",
    "client = RemoteAPIClient()\n",
    "sim = client.getObject('sim')\n"
   ]
  },
  {
   "cell_type": "code",
   "execution_count": 45,
   "metadata": {},
   "outputs": [],
   "source": [
    "# Obtenemos los manejadores para las articulaciones y el actuador final\n",
    "# base = sim.getObject('/UR5')\n",
    "\n",
    "#Joints\n",
    "j1 = sim.getObject('/UR5/joint')\n",
    "j2 = sim.getObject('/UR5/joint/link/joint')\n",
    "j3= sim.getObject('/UR5/joint/link/joint/link/joint')\n",
    "j4= sim.getObject('/UR5/joint/link/joint/link/joint/link/joint')\n",
    "j5= sim.getObject('/UR5/joint/link/joint/link/joint/link/joint/link/joint')\n",
    "j6= sim.getObject('/UR5/joint/link/joint/link/joint/link/joint/link/joint/link/joint')\n",
    "\n",
    "#links\n",
    "l1 = sim.getObject('/UR5/joint/link')\n",
    "l2 = sim.getObject('/UR5/joint/link/joint/link')\n",
    "l3= sim.getObject('/UR5/joint/link/joint/link/joint/link')\n",
    "l4= sim.getObject('/UR5/joint/link/joint/link/joint/link/joint/link')\n",
    "l5= sim.getObject('/UR5/joint/link/joint/link/joint/link/joint/link/joint/link')\n",
    "l6= sim.getObject('/UR5/joint/link/joint/link/joint/link/joint/link/joint/link/joint/link')"
   ]
  }
 ],
 "metadata": {
  "kernelspec": {
   "display_name": "Python 3",
   "language": "python",
   "name": "python3"
  },
  "language_info": {
   "codemirror_mode": {
    "name": "ipython",
    "version": 3
   },
   "file_extension": ".py",
   "mimetype": "text/x-python",
   "name": "python",
   "nbconvert_exporter": "python",
   "pygments_lexer": "ipython3",
   "version": "3.10.6"
  },
  "orig_nbformat": 4
 },
 "nbformat": 4,
 "nbformat_minor": 2
}
